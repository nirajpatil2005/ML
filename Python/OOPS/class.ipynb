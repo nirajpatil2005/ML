{
 "cells": [
  {
   "cell_type": "code",
   "execution_count": 1,
   "metadata": {},
   "outputs": [],
   "source": [
    "class car:\n",
    "    pass"
   ]
  },
  {
   "cell_type": "code",
   "execution_count": 2,
   "metadata": {},
   "outputs": [],
   "source": [
    "audiq7=car()"
   ]
  },
  {
   "cell_type": "code",
   "execution_count": 3,
   "metadata": {},
   "outputs": [
    {
     "data": {
      "text/plain": [
       "<__main__.car at 0x2a85e562f00>"
      ]
     },
     "execution_count": 3,
     "metadata": {},
     "output_type": "execute_result"
    }
   ],
   "source": [
    "audiq7"
   ]
  },
  {
   "cell_type": "markdown",
   "metadata": {},
   "source": [
    "audiq7.mileage=10\n",
    "audiq7.year=\n",
    "audiq7.make=\n",
    "audiq7.model="
   ]
  },
  {
   "cell_type": "code",
   "execution_count": 4,
   "metadata": {},
   "outputs": [],
   "source": [
    "audiq7.mileage=10\n",
    "audiq7.year=2020\n",
    "audiq7.make=345\n",
    "audiq7.model=\"fsdf\""
   ]
  },
  {
   "cell_type": "code",
   "execution_count": 5,
   "metadata": {},
   "outputs": [
    {
     "data": {
      "text/plain": [
       "10"
      ]
     },
     "execution_count": 5,
     "metadata": {},
     "output_type": "execute_result"
    }
   ],
   "source": [
    "audiq7.mileage"
   ]
  },
  {
   "cell_type": "code",
   "execution_count": 6,
   "metadata": {},
   "outputs": [
    {
     "data": {
      "text/plain": [
       "'fsdf'"
      ]
     },
     "execution_count": 6,
     "metadata": {},
     "output_type": "execute_result"
    }
   ],
   "source": [
    "audiq7.model"
   ]
  },
  {
   "cell_type": "code",
   "execution_count": 7,
   "metadata": {},
   "outputs": [],
   "source": [
    "nano=car()"
   ]
  },
  {
   "cell_type": "code",
   "execution_count": 8,
   "metadata": {},
   "outputs": [],
   "source": [
    "nano.mileage=24\n",
    "nano.year=2024\n",
    "nano.make=89\n",
    "nano.model=\"abcd\"\n",
    "nano.engineno=123456"
   ]
  },
  {
   "cell_type": "code",
   "execution_count": 9,
   "metadata": {},
   "outputs": [
    {
     "name": "stdout",
     "output_type": "stream",
     "text": [
      "2024 2020\n"
     ]
    }
   ],
   "source": [
    "print(nano.year,audiq7.year)"
   ]
  },
  {
   "cell_type": "code",
   "execution_count": 10,
   "metadata": {},
   "outputs": [],
   "source": [
    "class car:\n",
    "    def __init__ (self,mileage,year,make,model):\n",
    "        self.mileage=mileage\n",
    "        self.year=year\n",
    "        self.make=make\n",
    "        self.model=model"
   ]
  },
  {
   "cell_type": "code",
   "execution_count": 11,
   "metadata": {},
   "outputs": [],
   "source": [
    "nano1=car(10,2022,90,\"quant\")\n",
    "audiq7=car(14,2023,15,\"Q7\")"
   ]
  },
  {
   "cell_type": "code",
   "execution_count": 12,
   "metadata": {},
   "outputs": [
    {
     "data": {
      "text/plain": [
       "2023"
      ]
     },
     "execution_count": 12,
     "metadata": {},
     "output_type": "execute_result"
    }
   ],
   "source": [
    "audiq7.year"
   ]
  },
  {
   "cell_type": "markdown",
   "metadata": {},
   "source": [
    "Whatever variable first comes in __init__() function it acts as pointer to the class\n"
   ]
  },
  {
   "cell_type": "code",
   "execution_count": 13,
   "metadata": {},
   "outputs": [],
   "source": [
    "class car:\n",
    "    def __init__ (self,mileage,year,make,model):\n",
    "        self.mileage=mileage\n",
    "        self.year=year\n",
    "        self.make=make\n",
    "        self.model=model\n",
    "    \n",
    "    def age(self,current_year):\n",
    "        return current_year-self.year\n",
    "    def mileage1(self):\n",
    "        print(\"print a mileage of car:\",self.mileage)\n",
    "        \n",
    "    def __str__(self):\n",
    "        return \"this is my car class i have declared\""
   ]
  },
  {
   "cell_type": "code",
   "execution_count": 14,
   "metadata": {},
   "outputs": [
    {
     "name": "stdout",
     "output_type": "stream",
     "text": [
      "print a mileage of car: 10\n"
     ]
    }
   ],
   "source": [
    "nano=car(10,2022,90,\"quant\")\n",
    "nano.age(2024)\n",
    "nano.mileage1()"
   ]
  },
  {
   "cell_type": "code",
   "execution_count": 15,
   "metadata": {},
   "outputs": [
    {
     "data": {
      "text/plain": [
       "<__main__.car at 0x2a85e5614c0>"
      ]
     },
     "execution_count": 15,
     "metadata": {},
     "output_type": "execute_result"
    }
   ],
   "source": [
    "nano #printing object address"
   ]
  },
  {
   "cell_type": "code",
   "execution_count": 16,
   "metadata": {},
   "outputs": [
    {
     "name": "stdout",
     "output_type": "stream",
     "text": [
      "this is my car class i have declared\n"
     ]
    }
   ],
   "source": [
    "print(nano) #__str__ def are used "
   ]
  },
  {
   "cell_type": "code",
   "execution_count": 17,
   "metadata": {},
   "outputs": [],
   "source": [
    "class student:\n",
    "    def __init__(self,name,rollno,joinig_date,current_topic):\n",
    "        self.name=name\n",
    "        self.rollno=rollno\n",
    "        self.joining_date=joinig_date\n",
    "        self.current_topic=current_topic\n",
    "        \n",
    "    def name_parsing(self):\n",
    "        if type(self.name)==list:\n",
    "            for i in self.name:\n",
    "                print(\"name of the student \",i)\n",
    "        \n",
    "    def crt_topic(self):\n",
    "        print(\"curret topic discussed in my class is\",self.current_topic)\n",
    "        \n",
    "    def str_rollno(self):\n",
    "        try:\n",
    "                if type(self.rollno)==str:\n",
    "                    print(\"do nothing\")\n",
    "                else:\n",
    "                    return str(self.rollno)\n",
    "        except Exception as e:\n",
    "            print(e)\n",
    "    \n",
    "    def duration(self,current_date):\n",
    "        print(\"durartion of student in my calss is \",current_date-self.joining_date)\n",
    "        \n",
    "    def __str__(self):\n",
    "        return \"this is student class where they can type to input thereown data and they can try\""
   ]
  },
  {
   "cell_type": "code",
   "execution_count": 18,
   "metadata": {},
   "outputs": [],
   "source": [
    "srini=student(\"srini\",23,2020,\"oops\")"
   ]
  },
  {
   "cell_type": "code",
   "execution_count": 19,
   "metadata": {},
   "outputs": [
    {
     "name": "stdout",
     "output_type": "stream",
     "text": [
      "durartion of student in my calss is  4\n"
     ]
    }
   ],
   "source": [
    "srini.duration(2024)"
   ]
  },
  {
   "cell_type": "code",
   "execution_count": 20,
   "metadata": {},
   "outputs": [
    {
     "data": {
      "text/plain": [
       "23"
      ]
     },
     "execution_count": 20,
     "metadata": {},
     "output_type": "execute_result"
    }
   ],
   "source": [
    "srini.rollno"
   ]
  },
  {
   "cell_type": "code",
   "execution_count": 21,
   "metadata": {},
   "outputs": [],
   "source": [
    "mayur=student(\"mayur\",34,2022,\"py\")"
   ]
  },
  {
   "cell_type": "code",
   "execution_count": 22,
   "metadata": {},
   "outputs": [
    {
     "name": "stdout",
     "output_type": "stream",
     "text": [
      "this is student class where they can type to input thereown data and they can try\n"
     ]
    }
   ],
   "source": [
    "print(srini)"
   ]
  },
  {
   "cell_type": "code",
   "execution_count": 23,
   "metadata": {},
   "outputs": [],
   "source": [
    "class student:\n",
    "    def __init__(self,name,rollno,joinig_date,current_topic):\n",
    "        self.name=name\n",
    "        self.rollno=rollno\n",
    "        self.joining_date=joinig_date\n",
    "        self.current_topic=current_topic\n",
    "        \n",
    "    def name_parsing(self):\n",
    "        if type(self.name)==list:\n",
    "            for i in self.name:\n",
    "                print(\"name of the student \",i)\n",
    "        else:\n",
    "            print(\"provided name is not form of list\")\n",
    "    def crt_topic(self):\n",
    "        print(\"curret topic discussed in my class is\",self.current_topic)\n",
    "        \n",
    "    def str_rollno(self):\n",
    "        try:\n",
    "                if type(self.rollno)==str:\n",
    "                    print(\"do nothing\")\n",
    "                else:\n",
    "                    return str(self.rollno)\n",
    "        except Exception as e:\n",
    "            print(e)\n",
    "    \n",
    "    def duration(self,current_date):\n",
    "        print(\"durartion of student in my calss is \",current_date-self.joining_date)\n",
    "        \n",
    "    def __str__(self):\n",
    "        return \"this is student class where they can type to input thereown data and they can try\""
   ]
  },
  {
   "cell_type": "code",
   "execution_count": 24,
   "metadata": {},
   "outputs": [],
   "source": [
    "pawan=student([\"naveen\",\"jay\",\"hima\",\"prakash\"],[12,23,123,44],2021,\"oops\")"
   ]
  },
  {
   "cell_type": "code",
   "execution_count": 25,
   "metadata": {},
   "outputs": [
    {
     "name": "stdout",
     "output_type": "stream",
     "text": [
      "name of the student  naveen\n",
      "name of the student  jay\n",
      "name of the student  hima\n",
      "name of the student  prakash\n"
     ]
    }
   ],
   "source": [
    "pawan.name_parsing()"
   ]
  },
  {
   "cell_type": "code",
   "execution_count": 26,
   "metadata": {},
   "outputs": [
    {
     "name": "stdout",
     "output_type": "stream",
     "text": [
      "provided name is not form of list\n"
     ]
    }
   ],
   "source": [
    "mayur=student(\"mayur\",34,2022,\"py\")\n",
    "mayur.name_parsing()"
   ]
  },
  {
   "cell_type": "code",
   "execution_count": 27,
   "metadata": {},
   "outputs": [],
   "source": [
    "import os\n",
    "import logging as lg\n",
    "class data:\n",
    "    lg.basicConfig(filename=\"logging.log\",level=lg.DEBUG,format=\"%(asctime)s %(name)s %(levelname)s %(message)s\")\n",
    "    def __init__(self,filename,filetype,date,size):\n",
    "        self.filename=filename\n",
    "        self.filetype=filetype\n",
    "        self.date=date\n",
    "        self.size=size\n",
    "        \n",
    "    def openFile(self,name,ext):\n",
    "        #if file is  present\n",
    "        lg.info(\"getting started fn openFile()\")\n",
    "        try:\n",
    "            lg.info(\"opening present file\")\n",
    "            f=open(str(name+\".\"+ext),\"r\")\n",
    "            print(f.read())\n",
    "            f.seek(0)\n",
    "            lg.info(f.read())\n",
    "            f.close()\n",
    "            lg.info(\"closing file\")\n",
    "        #else file is not presnt\n",
    "        except:\n",
    "            lg.info(\"creating  file\")\n",
    "            f=open(str(name+\".\"+ext),\"w+\")\n",
    "            wr=input(\"enter some text\")\n",
    "            lg.warning(\"writing text\")\n",
    "            f.write(wr)\n",
    "            lg.info(wr)\n",
    "            print(f.read())\n",
    "            f.close()\n",
    "            lg.info(\"closing file\")\n",
    "        lg.info(\"ending openFile()\")\n",
    "            \n",
    "    def readFile(self,name,ext):\n",
    "        #if file is present\n",
    "        lg.info(\"getting started fn readFile()\")\n",
    "        try:\n",
    "            if os.path.exists(str(name+\".\"+ext)):\n",
    "                f=open(str(name+\".\"+ext),\"r\")\n",
    "                print(f.read())\n",
    "                f.close()\n",
    "            else:\n",
    "                print(\"file doesnt exist\")\n",
    "        except Exception as e:\n",
    "            print(e)\n",
    "        lg.info(\"ending readFile()\")\n",
    "            \n",
    "    def appendinFile(self,name,ext):\n",
    "        lg.info(\"getting started fn File()\")\n",
    "        try:\n",
    "            if os.path.exists(str(name+\".\"+ext)):\n",
    "                    f=open(str(name+\".\"+ext),\"+a\")\n",
    "                    app=input(\"enter your text\")\n",
    "                    f.write(app)\n",
    "                    f.seek(0)\n",
    "                    print(f.read())\n",
    "                    f.close()\n",
    "            else:\n",
    "                print(\"file doesn,t exist\")\n",
    "        except Exception as e:\n",
    "            print(e)\n",
    "        lg.info(\"ending readFile()\")\n",
    "        \n",
    "            "
   ]
  },
  {
   "cell_type": "code",
   "execution_count": 28,
   "metadata": {},
   "outputs": [],
   "source": [
    "ds=data(\"class1\",\"txt\",2024,24)\n"
   ]
  },
  {
   "cell_type": "code",
   "execution_count": 29,
   "metadata": {},
   "outputs": [
    {
     "name": "stdout",
     "output_type": "stream",
     "text": [
      "Ex :- car (entity)  Audi Q7 (Instance)\n",
      "      animal (class)  Bison(Instance)\n",
      "\n",
      "      object is variable of classdiugaiful1213913726496jhslgfliglgle685\n"
     ]
    }
   ],
   "source": [
    "ds.openFile(\"class1\",\"txt\")"
   ]
  },
  {
   "cell_type": "code",
   "execution_count": 30,
   "metadata": {},
   "outputs": [
    {
     "name": "stdout",
     "output_type": "stream",
     "text": [
      "gaglesduo\n"
     ]
    }
   ],
   "source": [
    "ds.openFile(\"test\",\"txt\")\n"
   ]
  },
  {
   "cell_type": "code",
   "execution_count": 31,
   "metadata": {},
   "outputs": [
    {
     "name": "stdout",
     "output_type": "stream",
     "text": [
      "file doesnt exist\n"
     ]
    }
   ],
   "source": [
    "ds.readFile(\"class\",\"txt\")"
   ]
  },
  {
   "cell_type": "code",
   "execution_count": 32,
   "metadata": {},
   "outputs": [
    {
     "name": "stdout",
     "output_type": "stream",
     "text": [
      "Ex :- car (entity)  Audi Q7 (Instance)\n",
      "      animal (class)  Bison(Instance)\n",
      "\n",
      "      object is variable of classdiugaiful1213913726496jhslgfliglgle685ukyfkufvl\n"
     ]
    }
   ],
   "source": [
    "ds.appendinFile(\"class1\",\"txt\")"
   ]
  },
  {
   "cell_type": "code",
   "execution_count": null,
   "metadata": {},
   "outputs": [],
   "source": []
  }
 ],
 "metadata": {
  "kernelspec": {
   "display_name": "Python 3",
   "language": "python",
   "name": "python3"
  },
  "language_info": {
   "codemirror_mode": {
    "name": "ipython",
    "version": 3
   },
   "file_extension": ".py",
   "mimetype": "text/x-python",
   "name": "python",
   "nbconvert_exporter": "python",
   "pygments_lexer": "ipython3",
   "version": "3.12.0"
  }
 },
 "nbformat": 4,
 "nbformat_minor": 2
}
