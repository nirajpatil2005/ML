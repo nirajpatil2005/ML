{
 "cells": [
  {
   "cell_type": "code",
   "execution_count": 2,
   "metadata": {},
   "outputs": [],
   "source": [
    "def testbug():\n",
    "    l=[]\n",
    "    for i in range(10):\n",
    "        l.append(i)\n",
    "        print(\"we have append your data in list\")\n",
    "    return l"
   ]
  },
  {
   "cell_type": "code",
   "execution_count": null,
   "metadata": {},
   "outputs": [],
   "source": [
    "testbug()"
   ]
  },
  {
   "cell_type": "markdown",
   "metadata": {},
   "source": [
    "use pip install ipdb for module for debugging of ipynb file of jupyter"
   ]
  },
  {
   "cell_type": "code",
   "execution_count": 4,
   "metadata": {},
   "outputs": [],
   "source": [
    "import ipdb"
   ]
  },
  {
   "cell_type": "code",
   "execution_count": 7,
   "metadata": {},
   "outputs": [],
   "source": [
    "def testbug():\n",
    "    ipdb.set_trace()\n",
    "    l=[]\n",
    "    for i in range(10):\n",
    "        l.append(i)\n",
    "        print(\"we have append your data in list\")\n",
    "    return l"
   ]
  },
  {
   "cell_type": "code",
   "execution_count": 10,
   "metadata": {},
   "outputs": [
    {
     "name": "stdout",
     "output_type": "stream",
     "text": [
      "> \u001b[1;32mc:\\users\\niraj\\appdata\\local\\temp\\ipykernel_249652\\3209790565.py\u001b[0m(3)\u001b[0;36mtestbug\u001b[1;34m()\u001b[0m\n",
      "\n",
      "\n",
      "Documented commands (type help <topic>):\n",
      "========================================\n",
      "EOF    commands   enable      list      pinfo2   rv               unt   \n",
      "a      condition  exceptions  ll        pp       s                until \n",
      "alias  cont       exit        longlist  psource  skip_hidden      up    \n",
      "args   context    h           n         q        skip_predicates  w     \n",
      "b      continue   help        next      quit     source           whatis\n",
      "break  d          ignore      p         r        step             where \n",
      "bt     debug      interact    pdef      restart  tbreak         \n",
      "c      disable    j           pdoc      return   u              \n",
      "cl     display    jump        pfile     retval   unalias        \n",
      "clear  down       l           pinfo     run      undisplay      \n",
      "\n",
      "Miscellaneous help topics:\n",
      "==========================\n",
      "exec  pdb\n",
      "\n",
      "> \u001b[1;32mc:\\users\\niraj\\appdata\\local\\temp\\ipykernel_249652\\3209790565.py\u001b[0m(4)\u001b[0;36mtestbug\u001b[1;34m()\u001b[0m\n",
      "\n",
      "> \u001b[1;32mc:\\users\\niraj\\appdata\\local\\temp\\ipykernel_249652\\3209790565.py\u001b[0m(5)\u001b[0;36mtestbug\u001b[1;34m()\u001b[0m\n",
      "\n",
      "> \u001b[1;32mc:\\users\\niraj\\appdata\\local\\temp\\ipykernel_249652\\3209790565.py\u001b[0m(6)\u001b[0;36mtestbug\u001b[1;34m()\u001b[0m\n",
      "\n",
      "we have append your data in list\n",
      "> \u001b[1;32mc:\\users\\niraj\\appdata\\local\\temp\\ipykernel_249652\\3209790565.py\u001b[0m(4)\u001b[0;36mtestbug\u001b[1;34m()\u001b[0m\n",
      "\n",
      "> \u001b[1;32mc:\\users\\niraj\\appdata\\local\\temp\\ipykernel_249652\\3209790565.py\u001b[0m(5)\u001b[0;36mtestbug\u001b[1;34m()\u001b[0m\n",
      "\n",
      "> \u001b[1;32mc:\\users\\niraj\\appdata\\local\\temp\\ipykernel_249652\\3209790565.py\u001b[0m(6)\u001b[0;36mtestbug\u001b[1;34m()\u001b[0m\n",
      "\n",
      "we have append your data in list\n",
      "> \u001b[1;32mc:\\users\\niraj\\appdata\\local\\temp\\ipykernel_249652\\3209790565.py\u001b[0m(4)\u001b[0;36mtestbug\u001b[1;34m()\u001b[0m\n",
      "\n",
      "> \u001b[1;32mc:\\users\\niraj\\appdata\\local\\temp\\ipykernel_249652\\3209790565.py\u001b[0m(5)\u001b[0;36mtestbug\u001b[1;34m()\u001b[0m\n",
      "\n",
      "> \u001b[1;32mc:\\users\\niraj\\appdata\\local\\temp\\ipykernel_249652\\3209790565.py\u001b[0m(6)\u001b[0;36mtestbug\u001b[1;34m()\u001b[0m\n",
      "\n",
      "we have append your data in list\n",
      "> \u001b[1;32mc:\\users\\niraj\\appdata\\local\\temp\\ipykernel_249652\\3209790565.py\u001b[0m(4)\u001b[0;36mtestbug\u001b[1;34m()\u001b[0m\n",
      "\n",
      "we have append your data in list\n",
      "we have append your data in list\n",
      "we have append your data in list\n",
      "we have append your data in list\n",
      "we have append your data in list\n",
      "we have append your data in list\n",
      "we have append your data in list\n"
     ]
    },
    {
     "data": {
      "text/plain": [
       "[0, 1, 2, 3, 4, 5, 6, 7, 8, 9]"
      ]
     },
     "execution_count": 10,
     "metadata": {},
     "output_type": "execute_result"
    }
   ],
   "source": [
    "testbug()"
   ]
  },
  {
   "cell_type": "code",
   "execution_count": null,
   "metadata": {},
   "outputs": [],
   "source": []
  }
 ],
 "metadata": {
  "kernelspec": {
   "display_name": "Python 3",
   "language": "python",
   "name": "python3"
  },
  "language_info": {
   "codemirror_mode": {
    "name": "ipython",
    "version": 3
   },
   "file_extension": ".py",
   "mimetype": "text/x-python",
   "name": "python",
   "nbconvert_exporter": "python",
   "pygments_lexer": "ipython3",
   "version": "3.12.0"
  }
 },
 "nbformat": 4,
 "nbformat_minor": 2
}
