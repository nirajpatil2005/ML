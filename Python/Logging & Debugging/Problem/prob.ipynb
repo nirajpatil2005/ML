{
 "cells": [
  {
   "cell_type": "code",
   "execution_count": 1,
   "metadata": {},
   "outputs": [],
   "source": [
    "import logging as lg\n",
    "import os"
   ]
  },
  {
   "cell_type": "code",
   "execution_count": 2,
   "metadata": {},
   "outputs": [
    {
     "data": {
      "text/plain": [
       "'d:\\\\ML\\\\Python\\\\JUPYTER\\\\Logging & Debugging\\\\Problem'"
      ]
     },
     "execution_count": 2,
     "metadata": {},
     "output_type": "execute_result"
    }
   ],
   "source": [
    "pwd()"
   ]
  },
  {
   "cell_type": "code",
   "execution_count": 3,
   "metadata": {},
   "outputs": [],
   "source": [
    "lg.basicConfig(filename='d:\\\\ML\\\\Python\\\\JUPYTER\\\\Logging & Debugging\\\\Problem\\\\prob.log',level=lg.INFO,format='%(asctime)s %(message)s')"
   ]
  },
  {
   "cell_type": "code",
   "execution_count": 4,
   "metadata": {},
   "outputs": [],
   "source": [
    "lg.info(\"this is for info\")"
   ]
  },
  {
   "cell_type": "code",
   "execution_count": 5,
   "metadata": {},
   "outputs": [],
   "source": [
    "lg.warning(\"this is for warning\")\n",
    "lg.error(\"this is for error\")\n",
    "lg.exception(\"this is for exception\")"
   ]
  },
  {
   "cell_type": "code",
   "execution_count": 9,
   "metadata": {},
   "outputs": [],
   "source": [
    "def sum(a,b):\n",
    "    try:\n",
    "        lg.info(\"these are input of the user {} , {}\".format(a,b))\n",
    "        sum=a+b\n",
    "        return sum\n",
    "    except Exception as e:\n",
    "        print(\"if your code fails then check log\")\n",
    "        lg.error(\"error occured\")\n",
    "        lg.exception(str(e))"
   ]
  },
  {
   "cell_type": "code",
   "execution_count": 10,
   "metadata": {},
   "outputs": [
    {
     "data": {
      "text/plain": [
       "134"
      ]
     },
     "execution_count": 10,
     "metadata": {},
     "output_type": "execute_result"
    }
   ],
   "source": [
    "sum(111,23)"
   ]
  },
  {
   "cell_type": "code",
   "execution_count": 14,
   "metadata": {},
   "outputs": [
    {
     "name": "stdout",
     "output_type": "stream",
     "text": [
      "2024-12-14 18:30:49,522 this is for info\n",
      "2024-12-14 18:31:39,894 this is for warning\n",
      "2024-12-14 18:31:39,895 this is for error\n",
      "2024-12-14 18:31:39,895 this is for exception\n",
      "NoneType: None\n",
      "2024-12-14 18:34:55,517 these are input of the user 11123\n",
      "2024-12-14 18:35:20,044 these are input of the user 111 , 23\n",
      "\n"
     ]
    }
   ],
   "source": [
    "f=open(\"prob.log\",\"r\")\n",
    "print(f.read())\n",
    "f.close()"
   ]
  },
  {
   "cell_type": "code",
   "execution_count": null,
   "metadata": {},
   "outputs": [],
   "source": []
  }
 ],
 "metadata": {
  "kernelspec": {
   "display_name": "Python 3",
   "language": "python",
   "name": "python3"
  },
  "language_info": {
   "codemirror_mode": {
    "name": "ipython",
    "version": 3
   },
   "file_extension": ".py",
   "mimetype": "text/x-python",
   "name": "python",
   "nbconvert_exporter": "python",
   "pygments_lexer": "ipython3",
   "version": "3.12.0"
  }
 },
 "nbformat": 4,
 "nbformat_minor": 2
}
